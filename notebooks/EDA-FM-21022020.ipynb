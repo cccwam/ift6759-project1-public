{
 "cells": [
  {
   "cell_type": "markdown",
   "metadata": {},
   "source": [
    "Author: François Mercier\n",
    "\n",
    "Goal: Analyzing the predictions (understanding where is bad/good)"
   ]
  },
  {
   "cell_type": "markdown",
   "metadata": {
    "jupyter": {
     "outputs_hidden": true
    }
   },
   "source": [
    "# Imports\n",
    "\n",
    "Additional requirements for this notebook (not part of main requirements)\n",
    "```\n",
    "pip install --no-index matplotlib \n",
    "pip install --no-index scikit-learn\n",
    "pip install --no-index seaborn\n",
    "pip install fastprogress\n",
    "````\n",
    "\n",
    "Additional requirements to be part of main requirements (used by TAs utilities functions)\n",
    "\n",
    "```\n",
    "pip install opencv-python\n",
    "pip install lz4\n",
    "pip install --no-index tqdm\n",
    "pip install --no-index h5netcdf\n",
    "````"
   ]
  },
  {
   "cell_type": "code",
   "execution_count": 3,
   "metadata": {},
   "outputs": [],
   "source": [
    "%matplotlib inline\n",
    "%reload_ext autoreload\n",
    "%autoreload 2"
   ]
  },
  {
   "cell_type": "code",
   "execution_count": 4,
   "metadata": {},
   "outputs": [],
   "source": [
    "import sklearn\n",
    "import matplotlib.pyplot as plt \n",
    "import seaborn as sns\n",
    "from pathlib import Path\n",
    "import pandas as pd\n",
    "import numpy as np\n",
    "import json\n",
    "\n",
    "from fastprogress import progress_bar\n",
    "\n",
    "import h5netcdf\n",
    "import cv2 as cv"
   ]
  },
  {
   "cell_type": "code",
   "execution_count": 5,
   "metadata": {},
   "outputs": [
    {
     "data": {
      "text/plain": [
       "'2.0.0'"
      ]
     },
     "execution_count": 5,
     "metadata": {},
     "output_type": "execute_result"
    }
   ],
   "source": [
    "from __future__ import absolute_import, division, print_function, unicode_literals\n",
    "\n",
    "import tensorflow as tf\n",
    "tf.__version__"
   ]
  },
  {
   "cell_type": "code",
   "execution_count": 6,
   "metadata": {},
   "outputs": [],
   "source": [
    "import sys\n",
    "sys.path.append(\"..\") # Require to have the utilities packages in path\n",
    "from utilities.utils import *"
   ]
  },
  {
   "cell_type": "code",
   "execution_count": 7,
   "metadata": {},
   "outputs": [],
   "source": [
    "pd.set_option('display.max_columns', 999)\n",
    "pd.set_option('display.max_rows', 999)"
   ]
  },
  {
   "cell_type": "code",
   "execution_count": 8,
   "metadata": {},
   "outputs": [
    {
     "data": {
      "text/plain": [
       "[PosixPath('../configs/admin/schema.json'),\n",
       " PosixPath('../configs/admin/hourly_random_train.json'),\n",
       " PosixPath('../configs/admin/hourly_daytime_shuffle_train.json'),\n",
       " PosixPath('../configs/admin/dummy_test_cfg.json'),\n",
       " PosixPath('../configs/admin/daily_random_01_test.json'),\n",
       " PosixPath('../configs/admin/hourly_daytime_01_test.json'),\n",
       " PosixPath('../configs/admin/daily_random_01_train.json'),\n",
       " PosixPath('../configs/admin/hourly_daytime_shuffle_validation.json'),\n",
       " PosixPath('../configs/admin/hourly_daytime_01_validation.json'),\n",
       " PosixPath('../configs/admin/daily_daytime_01_validation.json'),\n",
       " PosixPath('../configs/admin/daily_daytime_01_test.json'),\n",
       " PosixPath('../configs/admin/hourly_random_test.json'),\n",
       " PosixPath('../configs/admin/daily_daytime_01_train.json'),\n",
       " PosixPath('../configs/admin/daily_random_01_validation.json'),\n",
       " PosixPath('../configs/admin/hourly_random_validation.json'),\n",
       " PosixPath('../configs/admin/hourly_daytime_01_train.json'),\n",
       " PosixPath('../configs/admin/hourly_daytime_shuffle_test.json')]"
      ]
     },
     "execution_count": 8,
     "metadata": {},
     "output_type": "execute_result"
    }
   ],
   "source": [
    "data_path = Path(r\"../configs/admin\")\n",
    "list(data_path.glob(\"*\"))"
   ]
  },
  {
   "cell_type": "markdown",
   "metadata": {},
   "source": [
    "# Retrieve the hourly dataset"
   ]
  },
  {
   "cell_type": "code",
   "execution_count": 133,
   "metadata": {},
   "outputs": [
    {
     "data": {
      "text/plain": [
       "2014-01-01 00:15:00    2014-01-01T00:15:00\n",
       "2014-01-01 12:45:00    2014-01-01T12:45:00\n",
       "2014-01-01 13:15:00    2014-01-01T13:15:00\n",
       "2014-01-01 14:45:00    2014-01-01T14:45:00\n",
       "2014-01-01 15:45:00    2014-01-01T15:45:00\n",
       "dtype: object"
      ]
     },
     "execution_count": 133,
     "metadata": {},
     "output_type": "execute_result"
    }
   ],
   "source": [
    "with open(data_path / \"hourly_daytime_01_validation.json\", 'r') as f:\n",
    "    hourly_valid_dataset = json.load(f)\n",
    "\n",
    "hourly_valid_datapoint = pd.Series(hourly_valid_dataset[\"target_datetimes\"])\n",
    "hourly_valid_datapoint = pd.Series(hourly_valid_datapoint.values, index=pd.to_datetime(hourly_valid_datapoint))\n",
    "hourly_valid_datapoint.head()"
   ]
  },
  {
   "cell_type": "code",
   "execution_count": 134,
   "metadata": {},
   "outputs": [
    {
     "data": {
      "text/plain": [
       "2010-04-14 19:45:00    2010-04-14T19:45:00\n",
       "2010-04-14 20:30:00    2010-04-14T20:30:00\n",
       "2010-04-14 21:30:00    2010-04-14T21:30:00\n",
       "2010-04-14 22:30:00    2010-04-14T22:30:00\n",
       "2010-04-14 23:00:00    2010-04-14T23:00:00\n",
       "dtype: object"
      ]
     },
     "execution_count": 134,
     "metadata": {},
     "output_type": "execute_result"
    }
   ],
   "source": [
    "with open(data_path / \"hourly_daytime_01_train.json\", 'r') as f:\n",
    "    hourly_train_dataset = json.load(f)\n",
    "    \n",
    "hourly_train_datapoint = pd.Series(hourly_train_dataset[\"target_datetimes\"])\n",
    "hourly_train_datapoint = pd.Series(hourly_train_datapoint.values, index=pd.to_datetime(hourly_train_datapoint))\n",
    "hourly_train_datapoint.head()"
   ]
  },
  {
   "cell_type": "code",
   "execution_count": 135,
   "metadata": {},
   "outputs": [
    {
     "data": {
      "text/plain": [
       "<matplotlib.axes._subplots.AxesSubplot at 0x2b7d2446d7d0>"
      ]
     },
     "execution_count": 135,
     "metadata": {},
     "output_type": "execute_result"
    },
    {
     "data": {
      "image/png": "[encoded data removed]",
      "text/plain": [
       "<Figure size 432x288 with 1 Axes>"
      ]
     },
     "metadata": {
      "needs_background": "light"
     },
     "output_type": "display_data"
    }
   ],
   "source": [
    "hourly_train_datapoint.groupby([hourly_train_datapoint.index.year]).size().plot.bar(title=\"Distribution hourly train per year\")"
   ]
  },
  {
   "cell_type": "code",
   "execution_count": 136,
   "metadata": {},
   "outputs": [
    {
     "data": {
      "text/plain": [
       "<matplotlib.axes._subplots.AxesSubplot at 0x2b7d244d5490>"
      ]
     },
     "execution_count": 136,
     "metadata": {},
     "output_type": "execute_result"
    },
    {
     "data": {
      "image/png": "[encoded data removed]",
      "text/plain": [
       "<Figure size 432x288 with 1 Axes>"
      ]
     },
     "metadata": {
      "needs_background": "light"
     },
     "output_type": "display_data"
    }
   ],
   "source": [
    "hourly_train_datapoint.groupby([hourly_train_datapoint.index.month]).size().plot.bar(title=\"Distribution hourly train per month\")"
   ]
  },
  {
   "cell_type": "code",
   "execution_count": 137,
   "metadata": {},
   "outputs": [
    {
     "data": {
      "text/plain": [
       "<matplotlib.axes._subplots.AxesSubplot at 0x2b7d23e906d0>"
      ]
     },
     "execution_count": 137,
     "metadata": {},
     "output_type": "execute_result"
    },
    {
     "data": {
      "image/png": "[encoded data removed]",
      "text/plain": [
       "<Figure size 432x288 with 1 Axes>"
      ]
     },
     "metadata": {
      "needs_background": "light"
     },
     "output_type": "display_data"
    }
   ],
   "source": [
    "hourly_train_datapoint.groupby([hourly_train_datapoint.index.hour]).size().plot.bar(title=\"Distribution hourly train per hour\")"
   ]
  },
  {
   "cell_type": "code",
   "execution_count": 89,
   "metadata": {},
   "outputs": [
    {
     "data": {
      "text/plain": [
       "<matplotlib.axes._subplots.AxesSubplot at 0x2b7d1196a6d0>"
      ]
     },
     "execution_count": 89,
     "metadata": {},
     "output_type": "execute_result"
    },
    {
     "data": {
      "image/png": "[encoded data removed]",
      "text/plain": [
       "<Figure size 432x288 with 1 Axes>"
      ]
     },
     "metadata": {
      "needs_background": "light"
     },
     "output_type": "display_data"
    }
   ],
   "source": [
    "hourly_valid_datapoint.groupby([hourly_valid_datapoint.index.year]).size().plot.bar(title=\"Distribution hourly validation per year\")"
   ]
  },
  {
   "cell_type": "code",
   "execution_count": 90,
   "metadata": {},
   "outputs": [
    {
     "data": {
      "text/plain": [
       "<matplotlib.axes._subplots.AxesSubplot at 0x2b7d119e8f50>"
      ]
     },
     "execution_count": 90,
     "metadata": {},
     "output_type": "execute_result"
    },
    {
     "data": {
      "image/png": "[encoded data removed]",
      "text/plain": [
       "<Figure size 432x288 with 1 Axes>"
      ]
     },
     "metadata": {
      "needs_background": "light"
     },
     "output_type": "display_data"
    }
   ],
   "source": [
    "hourly_valid_datapoint.groupby([hourly_valid_datapoint.index.month]).size().plot.bar(title=\"Distribution hourly validation per month\")"
   ]
  },
  {
   "cell_type": "code",
   "execution_count": 91,
   "metadata": {},
   "outputs": [
    {
     "data": {
      "text/plain": [
       "<matplotlib.axes._subplots.AxesSubplot at 0x2b7d11a866d0>"
      ]
     },
     "execution_count": 91,
     "metadata": {},
     "output_type": "execute_result"
    },
    {
     "data": {
      "image/png": "[encoded data removed]",
      "text/plain": [
       "<Figure size 432x288 with 1 Axes>"
      ]
     },
     "metadata": {
      "needs_background": "light"
     },
     "output_type": "display_data"
    }
   ],
   "source": [
    "hourly_valid_datapoint.groupby([hourly_valid_datapoint.index.hour]).size().plot.bar(title=\"Distribution hourly validation per hour\")"
   ]
  },
  {
   "cell_type": "markdown",
   "metadata": {},
   "source": [
    "# Retrieve the daily dataset"
   ]
  },
  {
   "cell_type": "code",
   "execution_count": 138,
   "metadata": {},
   "outputs": [
    {
     "data": {
      "text/plain": [
       "2010-04-14 21:45:00    2010-04-14T21:45:00\n",
       "2010-04-15 23:30:00    2010-04-15T23:30:00\n",
       "2010-04-16 10:45:00    2010-04-16T10:45:00\n",
       "2010-04-17 00:15:00    2010-04-17T00:15:00\n",
       "2010-04-18 01:15:00    2010-04-18T01:15:00\n",
       "dtype: object"
      ]
     },
     "execution_count": 138,
     "metadata": {},
     "output_type": "execute_result"
    }
   ],
   "source": [
    "with open(data_path / \"daily_daytime_01_train.json\", 'r') as f:\n",
    "    daily_train_dataset = json.load(f)\n",
    "daily_train_datapoint = pd.Series(daily_train_dataset[\"target_datetimes\"])\n",
    "daily_train_datapoint = pd.Series(daily_train_datapoint.values, index=pd.to_datetime(daily_train_datapoint))\n",
    "daily_train_datapoint.head()"
   ]
  },
  {
   "cell_type": "code",
   "execution_count": 139,
   "metadata": {},
   "outputs": [
    {
     "data": {
      "text/plain": [
       "2014-01-01 14:30:00    2014-01-01T14:30:00\n",
       "2014-01-02 14:00:00    2014-01-02T14:00:00\n",
       "2014-01-03 15:45:00    2014-01-03T15:45:00\n",
       "2014-01-04 12:45:00    2014-01-04T12:45:00\n",
       "2014-01-05 17:30:00    2014-01-05T17:30:00\n",
       "dtype: object"
      ]
     },
     "execution_count": 139,
     "metadata": {},
     "output_type": "execute_result"
    }
   ],
   "source": [
    "with open(data_path / \"daily_daytime_01_validation.json\", 'r') as f:\n",
    "    daily_valid_dataset = json.load(f)\n",
    "daily_valid_datapoint = pd.Series(daily_valid_dataset[\"target_datetimes\"])\n",
    "daily_valid_datapoint = pd.Series(daily_valid_datapoint.values, index=pd.to_datetime(daily_valid_datapoint))\n",
    "daily_valid_datapoint.head()"
   ]
  },
  {
   "cell_type": "code",
   "execution_count": 140,
   "metadata": {},
   "outputs": [
    {
     "data": {
      "text/plain": [
       "<matplotlib.axes._subplots.AxesSubplot at 0x2b7d23429950>"
      ]
     },
     "execution_count": 140,
     "metadata": {},
     "output_type": "execute_result"
    },
    {
     "data": {
      "image/png": "[encoded data removed]",
      "text/plain": [
       "<Figure size 432x288 with 1 Axes>"
      ]
     },
     "metadata": {
      "needs_background": "light"
     },
     "output_type": "display_data"
    }
   ],
   "source": [
    "daily_train_datapoint.groupby([daily_train_datapoint.index.year]).size().plot.bar(title=\"Distribution daily train set per year\")"
   ]
  },
  {
   "cell_type": "code",
   "execution_count": 141,
   "metadata": {},
   "outputs": [
    {
     "data": {
      "text/plain": [
       "<matplotlib.axes._subplots.AxesSubplot at 0x2b7d229d8190>"
      ]
     },
     "execution_count": 141,
     "metadata": {},
     "output_type": "execute_result"
    },
    {
     "data": {
      "image/png": "[encoded data removed]",
      "text/plain": [
       "<Figure size 432x288 with 1 Axes>"
      ]
     },
     "metadata": {
      "needs_background": "light"
     },
     "output_type": "display_data"
    }
   ],
   "source": [
    "daily_train_datapoint.groupby([daily_train_datapoint.index.month]).size().plot.bar(title=\"Distribution daily train set per month\")"
   ]
  },
  {
   "cell_type": "code",
   "execution_count": 142,
   "metadata": {},
   "outputs": [
    {
     "data": {
      "text/plain": [
       "<matplotlib.axes._subplots.AxesSubplot at 0x2b7d2267c310>"
      ]
     },
     "execution_count": 142,
     "metadata": {},
     "output_type": "execute_result"
    },
    {
     "data": {
      "image/png": "[encoded data removed]",
      "text/plain": [
       "<Figure size 432x288 with 1 Axes>"
      ]
     },
     "metadata": {
      "needs_background": "light"
     },
     "output_type": "display_data"
    }
   ],
   "source": [
    "daily_train_datapoint.groupby([daily_train_datapoint.index.hour]).size().plot.bar(title=\"Distribution daily train set per hour\")"
   ]
  },
  {
   "cell_type": "code",
   "execution_count": 86,
   "metadata": {},
   "outputs": [
    {
     "data": {
      "text/plain": [
       "<matplotlib.axes._subplots.AxesSubplot at 0x2b7d117c05d0>"
      ]
     },
     "execution_count": 86,
     "metadata": {},
     "output_type": "execute_result"
    },
    {
     "data": {
      "image/png": "[encoded data removed]",
      "text/plain": [
       "<Figure size 432x288 with 1 Axes>"
      ]
     },
     "metadata": {
      "needs_background": "light"
     },
     "output_type": "display_data"
    }
   ],
   "source": [
    "daily_valid_datapoint.groupby([daily_valid_datapoint.index.year]).size().plot.bar(title=\"Distribution daily validation set per year\")"
   ]
  },
  {
   "cell_type": "code",
   "execution_count": 87,
   "metadata": {},
   "outputs": [
    {
     "data": {
      "text/plain": [
       "<matplotlib.axes._subplots.AxesSubplot at 0x2b7d11827ed0>"
      ]
     },
     "execution_count": 87,
     "metadata": {},
     "output_type": "execute_result"
    },
    {
     "data": {
      "image/png": "[encoded data removed]",
      "text/plain": [
       "<Figure size 432x288 with 1 Axes>"
      ]
     },
     "metadata": {
      "needs_background": "light"
     },
     "output_type": "display_data"
    }
   ],
   "source": [
    "daily_valid_datapoint.groupby([daily_valid_datapoint.index.month]).size().plot.bar(title=\"Distribution daily validation set per month\")"
   ]
  },
  {
   "cell_type": "code",
   "execution_count": 88,
   "metadata": {},
   "outputs": [
    {
     "data": {
      "text/plain": [
       "<matplotlib.axes._subplots.AxesSubplot at 0x2b7d1189d150>"
      ]
     },
     "execution_count": 88,
     "metadata": {},
     "output_type": "execute_result"
    },
    {
     "data": {
      "image/png": "[encoded data removed]",
      "text/plain": [
       "<Figure size 432x288 with 1 Axes>"
      ]
     },
     "metadata": {
      "needs_background": "light"
     },
     "output_type": "display_data"
    }
   ],
   "source": [
    "daily_valid_datapoint.groupby([daily_valid_datapoint.index.hour]).size().plot.bar(title=\"Distribution daily validation set per hour\")"
   ]
  },
  {
   "cell_type": "markdown",
   "metadata": {},
   "source": [
    "# Compare GHI"
   ]
  },
  {
   "cell_type": "code",
   "execution_count": 94,
   "metadata": {},
   "outputs": [],
   "source": [
    "df = pd.read_pickle(hourly__valid_dataset[\"dataframe_path\"])"
   ]
  },
  {
   "cell_type": "code",
   "execution_count": 144,
   "metadata": {},
   "outputs": [],
   "source": [
    "hourly_valid_df = df[df.index.isin(hourly_valid_datapoint)]\n",
    "daily_valid_df = df[df.index.isin(daily_valid_datapoint)]\n",
    "\n",
    "hourly_train_df = df[df.index.isin(hourly_train_datapoint)]\n",
    "daily_train_df = df[df.index.isin(daily_train_datapoint)]"
   ]
  },
  {
   "cell_type": "code",
   "execution_count": 150,
   "metadata": {},
   "outputs": [],
   "source": [
    "#stations = df.columns[df.columns.str.contains('^.{3}_GHI$')]\n",
    "stations = df.columns[df.columns.str.contains('_GHI$')]"
   ]
  },
  {
   "cell_type": "code",
   "execution_count": 151,
   "metadata": {},
   "outputs": [
    {
     "data": {
      "text/html": [
       "<div>\n",
       "<style scoped>\n",
       "    .dataframe tbody tr th:only-of-type {\n",
       "        vertical-align: middle;\n",
       "    }\n",
       "\n",
       "    .dataframe tbody tr th {\n",
       "        vertical-align: top;\n",
       "    }\n",
       "\n",
       "    .dataframe thead th {\n",
       "        text-align: right;\n",
       "    }\n",
       "</style>\n",
       "<table border=\"1\" class=\"dataframe\">\n",
       "  <thead>\n",
       "    <tr style=\"text-align: right;\">\n",
       "      <th></th>\n",
       "      <th>BND_CLEARSKY_GHI</th>\n",
       "      <th>BND_GHI</th>\n",
       "      <th>TBL_CLEARSKY_GHI</th>\n",
       "      <th>TBL_GHI</th>\n",
       "      <th>DRA_CLEARSKY_GHI</th>\n",
       "      <th>DRA_GHI</th>\n",
       "      <th>FPK_CLEARSKY_GHI</th>\n",
       "      <th>FPK_GHI</th>\n",
       "      <th>GWN_CLEARSKY_GHI</th>\n",
       "      <th>GWN_GHI</th>\n",
       "      <th>PSU_CLEARSKY_GHI</th>\n",
       "      <th>PSU_GHI</th>\n",
       "      <th>SXF_CLEARSKY_GHI</th>\n",
       "      <th>SXF_GHI</th>\n",
       "    </tr>\n",
       "  </thead>\n",
       "  <tbody>\n",
       "    <tr>\n",
       "      <th>count</th>\n",
       "      <td>20403.000000</td>\n",
       "      <td>20382.000000</td>\n",
       "      <td>20391.000000</td>\n",
       "      <td>20327.000000</td>\n",
       "      <td>20361.000000</td>\n",
       "      <td>20357.000000</td>\n",
       "      <td>20388.000000</td>\n",
       "      <td>20363.000000</td>\n",
       "      <td>19894.000000</td>\n",
       "      <td>19869.000000</td>\n",
       "      <td>20359.000000</td>\n",
       "      <td>20315.000000</td>\n",
       "      <td>20297.000000</td>\n",
       "      <td>20278.000000</td>\n",
       "    </tr>\n",
       "    <tr>\n",
       "      <th>mean</th>\n",
       "      <td>347.034020</td>\n",
       "      <td>268.735138</td>\n",
       "      <td>386.626852</td>\n",
       "      <td>304.736381</td>\n",
       "      <td>398.730731</td>\n",
       "      <td>371.558546</td>\n",
       "      <td>321.079720</td>\n",
       "      <td>257.857979</td>\n",
       "      <td>374.409256</td>\n",
       "      <td>300.675294</td>\n",
       "      <td>349.816643</td>\n",
       "      <td>242.136898</td>\n",
       "      <td>333.374086</td>\n",
       "      <td>265.994056</td>\n",
       "    </tr>\n",
       "    <tr>\n",
       "      <th>std</th>\n",
       "      <td>309.495548</td>\n",
       "      <td>293.292701</td>\n",
       "      <td>344.932730</td>\n",
       "      <td>314.274424</td>\n",
       "      <td>347.642959</td>\n",
       "      <td>348.045026</td>\n",
       "      <td>300.952745</td>\n",
       "      <td>276.255535</td>\n",
       "      <td>325.077173</td>\n",
       "      <td>314.057728</td>\n",
       "      <td>312.353441</td>\n",
       "      <td>275.636134</td>\n",
       "      <td>304.466399</td>\n",
       "      <td>284.962738</td>\n",
       "    </tr>\n",
       "    <tr>\n",
       "      <th>min</th>\n",
       "      <td>0.000000</td>\n",
       "      <td>-7.006667</td>\n",
       "      <td>0.000000</td>\n",
       "      <td>-7.806667</td>\n",
       "      <td>0.000000</td>\n",
       "      <td>-10.613333</td>\n",
       "      <td>0.000000</td>\n",
       "      <td>-9.873333</td>\n",
       "      <td>0.000000</td>\n",
       "      <td>-13.100000</td>\n",
       "      <td>0.000000</td>\n",
       "      <td>-8.166667</td>\n",
       "      <td>0.000000</td>\n",
       "      <td>-29.028571</td>\n",
       "    </tr>\n",
       "    <tr>\n",
       "      <th>0%</th>\n",
       "      <td>0.000000</td>\n",
       "      <td>-7.006667</td>\n",
       "      <td>0.000000</td>\n",
       "      <td>-7.806667</td>\n",
       "      <td>0.000000</td>\n",
       "      <td>-10.613333</td>\n",
       "      <td>0.000000</td>\n",
       "      <td>-9.873333</td>\n",
       "      <td>0.000000</td>\n",
       "      <td>-13.100000</td>\n",
       "      <td>0.000000</td>\n",
       "      <td>-8.166667</td>\n",
       "      <td>0.000000</td>\n",
       "      <td>-29.028571</td>\n",
       "    </tr>\n",
       "    <tr>\n",
       "      <th>25%</th>\n",
       "      <td>4.772642</td>\n",
       "      <td>4.736667</td>\n",
       "      <td>8.028091</td>\n",
       "      <td>9.460000</td>\n",
       "      <td>11.549958</td>\n",
       "      <td>16.046667</td>\n",
       "      <td>7.024730</td>\n",
       "      <td>8.403333</td>\n",
       "      <td>7.277665</td>\n",
       "      <td>7.180000</td>\n",
       "      <td>6.903648</td>\n",
       "      <td>5.950000</td>\n",
       "      <td>5.156979</td>\n",
       "      <td>6.635000</td>\n",
       "    </tr>\n",
       "    <tr>\n",
       "      <th>50%</th>\n",
       "      <td>317.909148</td>\n",
       "      <td>157.910000</td>\n",
       "      <td>350.017338</td>\n",
       "      <td>203.260000</td>\n",
       "      <td>376.015488</td>\n",
       "      <td>304.580000</td>\n",
       "      <td>263.456801</td>\n",
       "      <td>160.540000</td>\n",
       "      <td>358.183136</td>\n",
       "      <td>185.513333</td>\n",
       "      <td>324.418392</td>\n",
       "      <td>131.986667</td>\n",
       "      <td>296.973289</td>\n",
       "      <td>165.373333</td>\n",
       "    </tr>\n",
       "    <tr>\n",
       "      <th>90%</th>\n",
       "      <td>815.513432</td>\n",
       "      <td>751.478000</td>\n",
       "      <td>905.964401</td>\n",
       "      <td>807.660000</td>\n",
       "      <td>918.366080</td>\n",
       "      <td>910.138667</td>\n",
       "      <td>790.152210</td>\n",
       "      <td>707.916000</td>\n",
       "      <td>854.075410</td>\n",
       "      <td>804.776000</td>\n",
       "      <td>825.555386</td>\n",
       "      <td>698.845333</td>\n",
       "      <td>802.268483</td>\n",
       "      <td>730.396000</td>\n",
       "    </tr>\n",
       "    <tr>\n",
       "      <th>95%</th>\n",
       "      <td>877.589797</td>\n",
       "      <td>865.836333</td>\n",
       "      <td>982.484820</td>\n",
       "      <td>929.572667</td>\n",
       "      <td>982.718620</td>\n",
       "      <td>1001.181333</td>\n",
       "      <td>865.545888</td>\n",
       "      <td>822.446000</td>\n",
       "      <td>911.186076</td>\n",
       "      <td>907.650667</td>\n",
       "      <td>883.899215</td>\n",
       "      <td>832.200667</td>\n",
       "      <td>869.425004</td>\n",
       "      <td>846.659333</td>\n",
       "    </tr>\n",
       "    <tr>\n",
       "      <th>99%</th>\n",
       "      <td>919.131099</td>\n",
       "      <td>984.105267</td>\n",
       "      <td>1032.519502</td>\n",
       "      <td>1044.071333</td>\n",
       "      <td>1031.236854</td>\n",
       "      <td>1073.580800</td>\n",
       "      <td>922.134289</td>\n",
       "      <td>936.418400</td>\n",
       "      <td>954.864131</td>\n",
       "      <td>1015.714400</td>\n",
       "      <td>932.130520</td>\n",
       "      <td>966.545067</td>\n",
       "      <td>919.426318</td>\n",
       "      <td>961.946067</td>\n",
       "    </tr>\n",
       "    <tr>\n",
       "      <th>max</th>\n",
       "      <td>934.174002</td>\n",
       "      <td>1188.753333</td>\n",
       "      <td>1044.877461</td>\n",
       "      <td>1238.946667</td>\n",
       "      <td>1041.399365</td>\n",
       "      <td>1244.020000</td>\n",
       "      <td>936.722027</td>\n",
       "      <td>1078.353333</td>\n",
       "      <td>975.606042</td>\n",
       "      <td>1168.446667</td>\n",
       "      <td>949.158006</td>\n",
       "      <td>1177.146667</td>\n",
       "      <td>932.884255</td>\n",
       "      <td>1108.806667</td>\n",
       "    </tr>\n",
       "  </tbody>\n",
       "</table>\n",
       "</div>"
      ],
      "text/plain": [
       "       BND_CLEARSKY_GHI       BND_GHI  TBL_CLEARSKY_GHI       TBL_GHI  \\\n",
       "count      20403.000000  20382.000000      20391.000000  20327.000000   \n",
       "mean         347.034020    268.735138        386.626852    304.736381   \n",
       "std          309.495548    293.292701        344.932730    314.274424   \n",
       "min            0.000000     -7.006667          0.000000     -7.806667   \n",
       "0%             0.000000     -7.006667          0.000000     -7.806667   \n",
       "25%            4.772642      4.736667          8.028091      9.460000   \n",
       "50%          317.909148    157.910000        350.017338    203.260000   \n",
       "90%          815.513432    751.478000        905.964401    807.660000   \n",
       "95%          877.589797    865.836333        982.484820    929.572667   \n",
       "99%          919.131099    984.105267       1032.519502   1044.071333   \n",
       "max          934.174002   1188.753333       1044.877461   1238.946667   \n",
       "\n",
       "       DRA_CLEARSKY_GHI       DRA_GHI  FPK_CLEARSKY_GHI       FPK_GHI  \\\n",
       "count      20361.000000  20357.000000      20388.000000  20363.000000   \n",
       "mean         398.730731    371.558546        321.079720    257.857979   \n",
       "std          347.642959    348.045026        300.952745    276.255535   \n",
       "min            0.000000    -10.613333          0.000000     -9.873333   \n",
       "0%             0.000000    -10.613333          0.000000     -9.873333   \n",
       "25%           11.549958     16.046667          7.024730      8.403333   \n",
       "50%          376.015488    304.580000        263.456801    160.540000   \n",
       "90%          918.366080    910.138667        790.152210    707.916000   \n",
       "95%          982.718620   1001.181333        865.545888    822.446000   \n",
       "99%         1031.236854   1073.580800        922.134289    936.418400   \n",
       "max         1041.399365   1244.020000        936.722027   1078.353333   \n",
       "\n",
       "       GWN_CLEARSKY_GHI       GWN_GHI  PSU_CLEARSKY_GHI       PSU_GHI  \\\n",
       "count      19894.000000  19869.000000      20359.000000  20315.000000   \n",
       "mean         374.409256    300.675294        349.816643    242.136898   \n",
       "std          325.077173    314.057728        312.353441    275.636134   \n",
       "min            0.000000    -13.100000          0.000000     -8.166667   \n",
       "0%             0.000000    -13.100000          0.000000     -8.166667   \n",
       "25%            7.277665      7.180000          6.903648      5.950000   \n",
       "50%          358.183136    185.513333        324.418392    131.986667   \n",
       "90%          854.075410    804.776000        825.555386    698.845333   \n",
       "95%          911.186076    907.650667        883.899215    832.200667   \n",
       "99%          954.864131   1015.714400        932.130520    966.545067   \n",
       "max          975.606042   1168.446667        949.158006   1177.146667   \n",
       "\n",
       "       SXF_CLEARSKY_GHI       SXF_GHI  \n",
       "count      20297.000000  20278.000000  \n",
       "mean         333.374086    265.994056  \n",
       "std          304.466399    284.962738  \n",
       "min            0.000000    -29.028571  \n",
       "0%             0.000000    -29.028571  \n",
       "25%            5.156979      6.635000  \n",
       "50%          296.973289    165.373333  \n",
       "90%          802.268483    730.396000  \n",
       "95%          869.425004    846.659333  \n",
       "99%          919.426318    961.946067  \n",
       "max          932.884255   1108.806667  "
      ]
     },
     "execution_count": 151,
     "metadata": {},
     "output_type": "execute_result"
    }
   ],
   "source": [
    "hourly_train_df[stations].describe(percentiles=np.concatenate([np.arange(0, .75, 0.25), [.9, .95, .99]]))"
   ]
  },
  {
   "cell_type": "code",
   "execution_count": 152,
   "metadata": {},
   "outputs": [
    {
     "data": {
      "text/html": [
       "<div>\n",
       "<style scoped>\n",
       "    .dataframe tbody tr th:only-of-type {\n",
       "        vertical-align: middle;\n",
       "    }\n",
       "\n",
       "    .dataframe tbody tr th {\n",
       "        vertical-align: top;\n",
       "    }\n",
       "\n",
       "    .dataframe thead th {\n",
       "        text-align: right;\n",
       "    }\n",
       "</style>\n",
       "<table border=\"1\" class=\"dataframe\">\n",
       "  <thead>\n",
       "    <tr style=\"text-align: right;\">\n",
       "      <th></th>\n",
       "      <th>BND_CLEARSKY_GHI</th>\n",
       "      <th>BND_GHI</th>\n",
       "      <th>TBL_CLEARSKY_GHI</th>\n",
       "      <th>TBL_GHI</th>\n",
       "      <th>DRA_CLEARSKY_GHI</th>\n",
       "      <th>DRA_GHI</th>\n",
       "      <th>FPK_CLEARSKY_GHI</th>\n",
       "      <th>FPK_GHI</th>\n",
       "      <th>GWN_CLEARSKY_GHI</th>\n",
       "      <th>GWN_GHI</th>\n",
       "      <th>PSU_CLEARSKY_GHI</th>\n",
       "      <th>PSU_GHI</th>\n",
       "      <th>SXF_CLEARSKY_GHI</th>\n",
       "      <th>SXF_GHI</th>\n",
       "    </tr>\n",
       "  </thead>\n",
       "  <tbody>\n",
       "    <tr>\n",
       "      <th>count</th>\n",
       "      <td>5613.000000</td>\n",
       "      <td>5609.000000</td>\n",
       "      <td>5623.000000</td>\n",
       "      <td>5591.000000</td>\n",
       "      <td>5621.000000</td>\n",
       "      <td>5620.000000</td>\n",
       "      <td>5608.000000</td>\n",
       "      <td>5602.000000</td>\n",
       "      <td>5551.000000</td>\n",
       "      <td>5067.000000</td>\n",
       "      <td>5610.000000</td>\n",
       "      <td>5599.000000</td>\n",
       "      <td>5616.000000</td>\n",
       "      <td>5553.000000</td>\n",
       "    </tr>\n",
       "    <tr>\n",
       "      <th>mean</th>\n",
       "      <td>345.241059</td>\n",
       "      <td>260.089741</td>\n",
       "      <td>385.410209</td>\n",
       "      <td>293.483783</td>\n",
       "      <td>397.402973</td>\n",
       "      <td>369.725044</td>\n",
       "      <td>318.574077</td>\n",
       "      <td>244.522864</td>\n",
       "      <td>372.357629</td>\n",
       "      <td>273.788977</td>\n",
       "      <td>348.516978</td>\n",
       "      <td>239.642205</td>\n",
       "      <td>330.730592</td>\n",
       "      <td>252.786312</td>\n",
       "    </tr>\n",
       "    <tr>\n",
       "      <th>std</th>\n",
       "      <td>307.185203</td>\n",
       "      <td>286.354694</td>\n",
       "      <td>343.415106</td>\n",
       "      <td>305.916681</td>\n",
       "      <td>346.167913</td>\n",
       "      <td>346.139831</td>\n",
       "      <td>298.795571</td>\n",
       "      <td>267.680455</td>\n",
       "      <td>323.583681</td>\n",
       "      <td>299.310420</td>\n",
       "      <td>309.564297</td>\n",
       "      <td>273.694441</td>\n",
       "      <td>302.439408</td>\n",
       "      <td>272.926874</td>\n",
       "    </tr>\n",
       "    <tr>\n",
       "      <th>min</th>\n",
       "      <td>0.000000</td>\n",
       "      <td>-5.286667</td>\n",
       "      <td>0.000000</td>\n",
       "      <td>-4.846667</td>\n",
       "      <td>0.000000</td>\n",
       "      <td>-6.893333</td>\n",
       "      <td>0.000000</td>\n",
       "      <td>-5.333333</td>\n",
       "      <td>0.000000</td>\n",
       "      <td>-6.160000</td>\n",
       "      <td>0.000000</td>\n",
       "      <td>-4.613333</td>\n",
       "      <td>0.000000</td>\n",
       "      <td>-25.066667</td>\n",
       "    </tr>\n",
       "    <tr>\n",
       "      <th>0%</th>\n",
       "      <td>0.000000</td>\n",
       "      <td>-5.286667</td>\n",
       "      <td>0.000000</td>\n",
       "      <td>-4.846667</td>\n",
       "      <td>0.000000</td>\n",
       "      <td>-6.893333</td>\n",
       "      <td>0.000000</td>\n",
       "      <td>-5.333333</td>\n",
       "      <td>0.000000</td>\n",
       "      <td>-6.160000</td>\n",
       "      <td>0.000000</td>\n",
       "      <td>-4.613333</td>\n",
       "      <td>0.000000</td>\n",
       "      <td>-25.066667</td>\n",
       "    </tr>\n",
       "    <tr>\n",
       "      <th>25%</th>\n",
       "      <td>5.686800</td>\n",
       "      <td>6.686667</td>\n",
       "      <td>11.236186</td>\n",
       "      <td>11.963333</td>\n",
       "      <td>11.278746</td>\n",
       "      <td>18.646667</td>\n",
       "      <td>7.652795</td>\n",
       "      <td>8.625000</td>\n",
       "      <td>7.889630</td>\n",
       "      <td>3.710000</td>\n",
       "      <td>7.212632</td>\n",
       "      <td>7.190000</td>\n",
       "      <td>5.583234</td>\n",
       "      <td>6.706667</td>\n",
       "    </tr>\n",
       "    <tr>\n",
       "      <th>50%</th>\n",
       "      <td>320.705424</td>\n",
       "      <td>147.086667</td>\n",
       "      <td>346.235336</td>\n",
       "      <td>194.133333</td>\n",
       "      <td>374.272012</td>\n",
       "      <td>298.130000</td>\n",
       "      <td>261.985754</td>\n",
       "      <td>149.730000</td>\n",
       "      <td>358.913676</td>\n",
       "      <td>156.040000</td>\n",
       "      <td>328.024837</td>\n",
       "      <td>129.333333</td>\n",
       "      <td>292.352028</td>\n",
       "      <td>153.513333</td>\n",
       "    </tr>\n",
       "    <tr>\n",
       "      <th>90%</th>\n",
       "      <td>809.418485</td>\n",
       "      <td>730.670667</td>\n",
       "      <td>898.651029</td>\n",
       "      <td>784.493333</td>\n",
       "      <td>911.177562</td>\n",
       "      <td>905.518667</td>\n",
       "      <td>782.226651</td>\n",
       "      <td>679.939333</td>\n",
       "      <td>848.847106</td>\n",
       "      <td>750.653333</td>\n",
       "      <td>817.622655</td>\n",
       "      <td>693.278667</td>\n",
       "      <td>796.916828</td>\n",
       "      <td>683.206667</td>\n",
       "    </tr>\n",
       "    <tr>\n",
       "      <th>95%</th>\n",
       "      <td>873.981384</td>\n",
       "      <td>844.825333</td>\n",
       "      <td>980.557476</td>\n",
       "      <td>908.896667</td>\n",
       "      <td>976.456835</td>\n",
       "      <td>992.359667</td>\n",
       "      <td>864.501022</td>\n",
       "      <td>804.418333</td>\n",
       "      <td>906.244868</td>\n",
       "      <td>870.126000</td>\n",
       "      <td>880.341269</td>\n",
       "      <td>821.914667</td>\n",
       "      <td>866.420217</td>\n",
       "      <td>813.273333</td>\n",
       "    </tr>\n",
       "    <tr>\n",
       "      <th>99%</th>\n",
       "      <td>919.604324</td>\n",
       "      <td>961.396267</td>\n",
       "      <td>1032.831924</td>\n",
       "      <td>1044.500667</td>\n",
       "      <td>1030.399339</td>\n",
       "      <td>1072.599267</td>\n",
       "      <td>922.115743</td>\n",
       "      <td>939.379667</td>\n",
       "      <td>952.324231</td>\n",
       "      <td>996.378667</td>\n",
       "      <td>932.677610</td>\n",
       "      <td>973.418533</td>\n",
       "      <td>919.865638</td>\n",
       "      <td>954.860267</td>\n",
       "    </tr>\n",
       "    <tr>\n",
       "      <th>max</th>\n",
       "      <td>932.837979</td>\n",
       "      <td>1094.246667</td>\n",
       "      <td>1044.242752</td>\n",
       "      <td>1229.246667</td>\n",
       "      <td>1041.295058</td>\n",
       "      <td>1182.773333</td>\n",
       "      <td>936.726213</td>\n",
       "      <td>1052.353333</td>\n",
       "      <td>975.184620</td>\n",
       "      <td>1117.780000</td>\n",
       "      <td>948.706528</td>\n",
       "      <td>1124.293333</td>\n",
       "      <td>931.907617</td>\n",
       "      <td>1057.353333</td>\n",
       "    </tr>\n",
       "  </tbody>\n",
       "</table>\n",
       "</div>"
      ],
      "text/plain": [
       "       BND_CLEARSKY_GHI      BND_GHI  TBL_CLEARSKY_GHI      TBL_GHI  \\\n",
       "count       5613.000000  5609.000000       5623.000000  5591.000000   \n",
       "mean         345.241059   260.089741        385.410209   293.483783   \n",
       "std          307.185203   286.354694        343.415106   305.916681   \n",
       "min            0.000000    -5.286667          0.000000    -4.846667   \n",
       "0%             0.000000    -5.286667          0.000000    -4.846667   \n",
       "25%            5.686800     6.686667         11.236186    11.963333   \n",
       "50%          320.705424   147.086667        346.235336   194.133333   \n",
       "90%          809.418485   730.670667        898.651029   784.493333   \n",
       "95%          873.981384   844.825333        980.557476   908.896667   \n",
       "99%          919.604324   961.396267       1032.831924  1044.500667   \n",
       "max          932.837979  1094.246667       1044.242752  1229.246667   \n",
       "\n",
       "       DRA_CLEARSKY_GHI      DRA_GHI  FPK_CLEARSKY_GHI      FPK_GHI  \\\n",
       "count       5621.000000  5620.000000       5608.000000  5602.000000   \n",
       "mean         397.402973   369.725044        318.574077   244.522864   \n",
       "std          346.167913   346.139831        298.795571   267.680455   \n",
       "min            0.000000    -6.893333          0.000000    -5.333333   \n",
       "0%             0.000000    -6.893333          0.000000    -5.333333   \n",
       "25%           11.278746    18.646667          7.652795     8.625000   \n",
       "50%          374.272012   298.130000        261.985754   149.730000   \n",
       "90%          911.177562   905.518667        782.226651   679.939333   \n",
       "95%          976.456835   992.359667        864.501022   804.418333   \n",
       "99%         1030.399339  1072.599267        922.115743   939.379667   \n",
       "max         1041.295058  1182.773333        936.726213  1052.353333   \n",
       "\n",
       "       GWN_CLEARSKY_GHI      GWN_GHI  PSU_CLEARSKY_GHI      PSU_GHI  \\\n",
       "count       5551.000000  5067.000000       5610.000000  5599.000000   \n",
       "mean         372.357629   273.788977        348.516978   239.642205   \n",
       "std          323.583681   299.310420        309.564297   273.694441   \n",
       "min            0.000000    -6.160000          0.000000    -4.613333   \n",
       "0%             0.000000    -6.160000          0.000000    -4.613333   \n",
       "25%            7.889630     3.710000          7.212632     7.190000   \n",
       "50%          358.913676   156.040000        328.024837   129.333333   \n",
       "90%          848.847106   750.653333        817.622655   693.278667   \n",
       "95%          906.244868   870.126000        880.341269   821.914667   \n",
       "99%          952.324231   996.378667        932.677610   973.418533   \n",
       "max          975.184620  1117.780000        948.706528  1124.293333   \n",
       "\n",
       "       SXF_CLEARSKY_GHI      SXF_GHI  \n",
       "count       5616.000000  5553.000000  \n",
       "mean         330.730592   252.786312  \n",
       "std          302.439408   272.926874  \n",
       "min            0.000000   -25.066667  \n",
       "0%             0.000000   -25.066667  \n",
       "25%            5.583234     6.706667  \n",
       "50%          292.352028   153.513333  \n",
       "90%          796.916828   683.206667  \n",
       "95%          866.420217   813.273333  \n",
       "99%          919.865638   954.860267  \n",
       "max          931.907617  1057.353333  "
      ]
     },
     "execution_count": 152,
     "metadata": {},
     "output_type": "execute_result"
    }
   ],
   "source": [
    "hourly_valid_df[stations].describe(percentiles=np.concatenate([np.arange(0, .75, 0.25), [.9, .95, .99]]))"
   ]
  },
  {
   "cell_type": "code",
   "execution_count": 153,
   "metadata": {},
   "outputs": [
    {
     "data": {
      "text/html": [
       "<div>\n",
       "<style scoped>\n",
       "    .dataframe tbody tr th:only-of-type {\n",
       "        vertical-align: middle;\n",
       "    }\n",
       "\n",
       "    .dataframe tbody tr th {\n",
       "        vertical-align: top;\n",
       "    }\n",
       "\n",
       "    .dataframe thead th {\n",
       "        text-align: right;\n",
       "    }\n",
       "</style>\n",
       "<table border=\"1\" class=\"dataframe\">\n",
       "  <thead>\n",
       "    <tr style=\"text-align: right;\">\n",
       "      <th></th>\n",
       "      <th>BND_CLEARSKY_GHI</th>\n",
       "      <th>BND_GHI</th>\n",
       "      <th>TBL_CLEARSKY_GHI</th>\n",
       "      <th>TBL_GHI</th>\n",
       "      <th>DRA_CLEARSKY_GHI</th>\n",
       "      <th>DRA_GHI</th>\n",
       "      <th>FPK_CLEARSKY_GHI</th>\n",
       "      <th>FPK_GHI</th>\n",
       "      <th>GWN_CLEARSKY_GHI</th>\n",
       "      <th>GWN_GHI</th>\n",
       "      <th>PSU_CLEARSKY_GHI</th>\n",
       "      <th>PSU_GHI</th>\n",
       "      <th>SXF_CLEARSKY_GHI</th>\n",
       "      <th>SXF_GHI</th>\n",
       "    </tr>\n",
       "  </thead>\n",
       "  <tbody>\n",
       "    <tr>\n",
       "      <th>count</th>\n",
       "      <td>1315.000000</td>\n",
       "      <td>1314.000000</td>\n",
       "      <td>1314.000000</td>\n",
       "      <td>1310.000000</td>\n",
       "      <td>1312.000000</td>\n",
       "      <td>1312.000000</td>\n",
       "      <td>1315.000000</td>\n",
       "      <td>1314.000000</td>\n",
       "      <td>1290.000000</td>\n",
       "      <td>1287.000000</td>\n",
       "      <td>1312.000000</td>\n",
       "      <td>1308.000000</td>\n",
       "      <td>1310.000000</td>\n",
       "      <td>1310.000000</td>\n",
       "    </tr>\n",
       "    <tr>\n",
       "      <th>mean</th>\n",
       "      <td>339.622385</td>\n",
       "      <td>262.697681</td>\n",
       "      <td>378.287033</td>\n",
       "      <td>306.139111</td>\n",
       "      <td>390.897248</td>\n",
       "      <td>364.882851</td>\n",
       "      <td>311.490150</td>\n",
       "      <td>250.779802</td>\n",
       "      <td>367.207262</td>\n",
       "      <td>292.911593</td>\n",
       "      <td>341.973218</td>\n",
       "      <td>242.217548</td>\n",
       "      <td>324.942464</td>\n",
       "      <td>254.248127</td>\n",
       "    </tr>\n",
       "    <tr>\n",
       "      <th>std</th>\n",
       "      <td>309.396863</td>\n",
       "      <td>291.372064</td>\n",
       "      <td>344.302505</td>\n",
       "      <td>318.601569</td>\n",
       "      <td>346.485079</td>\n",
       "      <td>345.217225</td>\n",
       "      <td>301.489523</td>\n",
       "      <td>274.945349</td>\n",
       "      <td>324.203916</td>\n",
       "      <td>314.088151</td>\n",
       "      <td>313.004154</td>\n",
       "      <td>279.196817</td>\n",
       "      <td>305.014562</td>\n",
       "      <td>281.519766</td>\n",
       "    </tr>\n",
       "    <tr>\n",
       "      <th>min</th>\n",
       "      <td>0.000000</td>\n",
       "      <td>-6.666667</td>\n",
       "      <td>0.000000</td>\n",
       "      <td>-6.333333</td>\n",
       "      <td>0.000000</td>\n",
       "      <td>-10.593333</td>\n",
       "      <td>0.000000</td>\n",
       "      <td>-6.320000</td>\n",
       "      <td>0.000000</td>\n",
       "      <td>-8.793333</td>\n",
       "      <td>0.000000</td>\n",
       "      <td>-5.593333</td>\n",
       "      <td>0.000000</td>\n",
       "      <td>-24.993333</td>\n",
       "    </tr>\n",
       "    <tr>\n",
       "      <th>0%</th>\n",
       "      <td>0.000000</td>\n",
       "      <td>-6.666667</td>\n",
       "      <td>0.000000</td>\n",
       "      <td>-6.333333</td>\n",
       "      <td>0.000000</td>\n",
       "      <td>-10.593333</td>\n",
       "      <td>0.000000</td>\n",
       "      <td>-6.320000</td>\n",
       "      <td>0.000000</td>\n",
       "      <td>-8.793333</td>\n",
       "      <td>0.000000</td>\n",
       "      <td>-5.593333</td>\n",
       "      <td>0.000000</td>\n",
       "      <td>-24.993333</td>\n",
       "    </tr>\n",
       "    <tr>\n",
       "      <th>25%</th>\n",
       "      <td>2.883860</td>\n",
       "      <td>3.743333</td>\n",
       "      <td>2.210302</td>\n",
       "      <td>4.691667</td>\n",
       "      <td>11.303905</td>\n",
       "      <td>12.981667</td>\n",
       "      <td>0.642633</td>\n",
       "      <td>1.503333</td>\n",
       "      <td>6.416540</td>\n",
       "      <td>7.543333</td>\n",
       "      <td>5.374019</td>\n",
       "      <td>4.940000</td>\n",
       "      <td>1.250145</td>\n",
       "      <td>3.521667</td>\n",
       "    </tr>\n",
       "    <tr>\n",
       "      <th>50%</th>\n",
       "      <td>308.468506</td>\n",
       "      <td>147.826667</td>\n",
       "      <td>340.436788</td>\n",
       "      <td>204.593333</td>\n",
       "      <td>359.904698</td>\n",
       "      <td>304.203333</td>\n",
       "      <td>247.170742</td>\n",
       "      <td>153.910000</td>\n",
       "      <td>338.296604</td>\n",
       "      <td>169.233333</td>\n",
       "      <td>298.567073</td>\n",
       "      <td>128.660000</td>\n",
       "      <td>277.200100</td>\n",
       "      <td>147.450000</td>\n",
       "    </tr>\n",
       "    <tr>\n",
       "      <th>90%</th>\n",
       "      <td>810.328443</td>\n",
       "      <td>762.916000</td>\n",
       "      <td>901.393044</td>\n",
       "      <td>809.442667</td>\n",
       "      <td>910.011809</td>\n",
       "      <td>890.470000</td>\n",
       "      <td>786.506843</td>\n",
       "      <td>701.262000</td>\n",
       "      <td>842.341494</td>\n",
       "      <td>810.648000</td>\n",
       "      <td>820.297043</td>\n",
       "      <td>694.139333</td>\n",
       "      <td>796.323696</td>\n",
       "      <td>724.598667</td>\n",
       "    </tr>\n",
       "    <tr>\n",
       "      <th>95%</th>\n",
       "      <td>876.046567</td>\n",
       "      <td>859.122000</td>\n",
       "      <td>969.774794</td>\n",
       "      <td>933.292667</td>\n",
       "      <td>974.192960</td>\n",
       "      <td>985.426000</td>\n",
       "      <td>853.424825</td>\n",
       "      <td>814.928000</td>\n",
       "      <td>906.915184</td>\n",
       "      <td>902.444667</td>\n",
       "      <td>885.256201</td>\n",
       "      <td>847.592000</td>\n",
       "      <td>860.301479</td>\n",
       "      <td>834.304667</td>\n",
       "    </tr>\n",
       "    <tr>\n",
       "      <th>99%</th>\n",
       "      <td>916.394416</td>\n",
       "      <td>967.063067</td>\n",
       "      <td>1027.652220</td>\n",
       "      <td>1037.227267</td>\n",
       "      <td>1022.514528</td>\n",
       "      <td>1072.899600</td>\n",
       "      <td>920.354385</td>\n",
       "      <td>927.619467</td>\n",
       "      <td>956.241471</td>\n",
       "      <td>1017.675200</td>\n",
       "      <td>930.420139</td>\n",
       "      <td>978.650400</td>\n",
       "      <td>914.827105</td>\n",
       "      <td>950.738800</td>\n",
       "    </tr>\n",
       "    <tr>\n",
       "      <th>max</th>\n",
       "      <td>929.727558</td>\n",
       "      <td>1055.466667</td>\n",
       "      <td>1043.333137</td>\n",
       "      <td>1112.953333</td>\n",
       "      <td>1041.088752</td>\n",
       "      <td>1140.740000</td>\n",
       "      <td>936.528983</td>\n",
       "      <td>976.813333</td>\n",
       "      <td>970.854629</td>\n",
       "      <td>1076.073333</td>\n",
       "      <td>946.840930</td>\n",
       "      <td>1120.566667</td>\n",
       "      <td>929.309955</td>\n",
       "      <td>1035.086667</td>\n",
       "    </tr>\n",
       "  </tbody>\n",
       "</table>\n",
       "</div>"
      ],
      "text/plain": [
       "       BND_CLEARSKY_GHI      BND_GHI  TBL_CLEARSKY_GHI      TBL_GHI  \\\n",
       "count       1315.000000  1314.000000       1314.000000  1310.000000   \n",
       "mean         339.622385   262.697681        378.287033   306.139111   \n",
       "std          309.396863   291.372064        344.302505   318.601569   \n",
       "min            0.000000    -6.666667          0.000000    -6.333333   \n",
       "0%             0.000000    -6.666667          0.000000    -6.333333   \n",
       "25%            2.883860     3.743333          2.210302     4.691667   \n",
       "50%          308.468506   147.826667        340.436788   204.593333   \n",
       "90%          810.328443   762.916000        901.393044   809.442667   \n",
       "95%          876.046567   859.122000        969.774794   933.292667   \n",
       "99%          916.394416   967.063067       1027.652220  1037.227267   \n",
       "max          929.727558  1055.466667       1043.333137  1112.953333   \n",
       "\n",
       "       DRA_CLEARSKY_GHI      DRA_GHI  FPK_CLEARSKY_GHI      FPK_GHI  \\\n",
       "count       1312.000000  1312.000000       1315.000000  1314.000000   \n",
       "mean         390.897248   364.882851        311.490150   250.779802   \n",
       "std          346.485079   345.217225        301.489523   274.945349   \n",
       "min            0.000000   -10.593333          0.000000    -6.320000   \n",
       "0%             0.000000   -10.593333          0.000000    -6.320000   \n",
       "25%           11.303905    12.981667          0.642633     1.503333   \n",
       "50%          359.904698   304.203333        247.170742   153.910000   \n",
       "90%          910.011809   890.470000        786.506843   701.262000   \n",
       "95%          974.192960   985.426000        853.424825   814.928000   \n",
       "99%         1022.514528  1072.899600        920.354385   927.619467   \n",
       "max         1041.088752  1140.740000        936.528983   976.813333   \n",
       "\n",
       "       GWN_CLEARSKY_GHI      GWN_GHI  PSU_CLEARSKY_GHI      PSU_GHI  \\\n",
       "count       1290.000000  1287.000000       1312.000000  1308.000000   \n",
       "mean         367.207262   292.911593        341.973218   242.217548   \n",
       "std          324.203916   314.088151        313.004154   279.196817   \n",
       "min            0.000000    -8.793333          0.000000    -5.593333   \n",
       "0%             0.000000    -8.793333          0.000000    -5.593333   \n",
       "25%            6.416540     7.543333          5.374019     4.940000   \n",
       "50%          338.296604   169.233333        298.567073   128.660000   \n",
       "90%          842.341494   810.648000        820.297043   694.139333   \n",
       "95%          906.915184   902.444667        885.256201   847.592000   \n",
       "99%          956.241471  1017.675200        930.420139   978.650400   \n",
       "max          970.854629  1076.073333        946.840930  1120.566667   \n",
       "\n",
       "       SXF_CLEARSKY_GHI      SXF_GHI  \n",
       "count       1310.000000  1310.000000  \n",
       "mean         324.942464   254.248127  \n",
       "std          305.014562   281.519766  \n",
       "min            0.000000   -24.993333  \n",
       "0%             0.000000   -24.993333  \n",
       "25%            1.250145     3.521667  \n",
       "50%          277.200100   147.450000  \n",
       "90%          796.323696   724.598667  \n",
       "95%          860.301479   834.304667  \n",
       "99%          914.827105   950.738800  \n",
       "max          929.309955  1035.086667  "
      ]
     },
     "execution_count": 153,
     "metadata": {},
     "output_type": "execute_result"
    }
   ],
   "source": [
    "daily_train_df[stations].describe(percentiles=np.concatenate([np.arange(0, .75, 0.25), [.9, .95, .99]]))"
   ]
  },
  {
   "cell_type": "code",
   "execution_count": 154,
   "metadata": {},
   "outputs": [
    {
     "data": {
      "text/html": [
       "<div>\n",
       "<style scoped>\n",
       "    .dataframe tbody tr th:only-of-type {\n",
       "        vertical-align: middle;\n",
       "    }\n",
       "\n",
       "    .dataframe tbody tr th {\n",
       "        vertical-align: top;\n",
       "    }\n",
       "\n",
       "    .dataframe thead th {\n",
       "        text-align: right;\n",
       "    }\n",
       "</style>\n",
       "<table border=\"1\" class=\"dataframe\">\n",
       "  <thead>\n",
       "    <tr style=\"text-align: right;\">\n",
       "      <th></th>\n",
       "      <th>BND_CLEARSKY_GHI</th>\n",
       "      <th>BND_GHI</th>\n",
       "      <th>TBL_CLEARSKY_GHI</th>\n",
       "      <th>TBL_GHI</th>\n",
       "      <th>DRA_CLEARSKY_GHI</th>\n",
       "      <th>DRA_GHI</th>\n",
       "      <th>FPK_CLEARSKY_GHI</th>\n",
       "      <th>FPK_GHI</th>\n",
       "      <th>GWN_CLEARSKY_GHI</th>\n",
       "      <th>GWN_GHI</th>\n",
       "      <th>PSU_CLEARSKY_GHI</th>\n",
       "      <th>PSU_GHI</th>\n",
       "      <th>SXF_CLEARSKY_GHI</th>\n",
       "      <th>SXF_GHI</th>\n",
       "    </tr>\n",
       "  </thead>\n",
       "  <tbody>\n",
       "    <tr>\n",
       "      <th>count</th>\n",
       "      <td>364.000000</td>\n",
       "      <td>363.000000</td>\n",
       "      <td>365.000000</td>\n",
       "      <td>362.000000</td>\n",
       "      <td>365.000000</td>\n",
       "      <td>365.000000</td>\n",
       "      <td>363.000000</td>\n",
       "      <td>363.000000</td>\n",
       "      <td>361.000000</td>\n",
       "      <td>331.000000</td>\n",
       "      <td>364.000000</td>\n",
       "      <td>362.000000</td>\n",
       "      <td>364.000000</td>\n",
       "      <td>360.000000</td>\n",
       "    </tr>\n",
       "    <tr>\n",
       "      <th>mean</th>\n",
       "      <td>347.237352</td>\n",
       "      <td>245.857943</td>\n",
       "      <td>379.611243</td>\n",
       "      <td>294.589650</td>\n",
       "      <td>385.699622</td>\n",
       "      <td>355.669502</td>\n",
       "      <td>307.592424</td>\n",
       "      <td>239.884848</td>\n",
       "      <td>379.851008</td>\n",
       "      <td>293.446651</td>\n",
       "      <td>350.426776</td>\n",
       "      <td>240.638398</td>\n",
       "      <td>326.506667</td>\n",
       "      <td>252.677333</td>\n",
       "    </tr>\n",
       "    <tr>\n",
       "      <th>std</th>\n",
       "      <td>303.262589</td>\n",
       "      <td>277.754598</td>\n",
       "      <td>336.495369</td>\n",
       "      <td>303.127235</td>\n",
       "      <td>340.001383</td>\n",
       "      <td>336.640192</td>\n",
       "      <td>293.736255</td>\n",
       "      <td>267.567546</td>\n",
       "      <td>318.653796</td>\n",
       "      <td>309.388639</td>\n",
       "      <td>307.614512</td>\n",
       "      <td>272.783042</td>\n",
       "      <td>296.715918</td>\n",
       "      <td>271.825752</td>\n",
       "    </tr>\n",
       "    <tr>\n",
       "      <th>min</th>\n",
       "      <td>0.000000</td>\n",
       "      <td>-5.393333</td>\n",
       "      <td>0.000000</td>\n",
       "      <td>-4.780000</td>\n",
       "      <td>0.000000</td>\n",
       "      <td>-6.800000</td>\n",
       "      <td>0.000000</td>\n",
       "      <td>-4.700000</td>\n",
       "      <td>0.000000</td>\n",
       "      <td>-5.586667</td>\n",
       "      <td>0.000000</td>\n",
       "      <td>-3.313333</td>\n",
       "      <td>0.000000</td>\n",
       "      <td>-19.933333</td>\n",
       "    </tr>\n",
       "    <tr>\n",
       "      <th>0%</th>\n",
       "      <td>0.000000</td>\n",
       "      <td>-5.393333</td>\n",
       "      <td>0.000000</td>\n",
       "      <td>-4.780000</td>\n",
       "      <td>0.000000</td>\n",
       "      <td>-6.800000</td>\n",
       "      <td>0.000000</td>\n",
       "      <td>-4.700000</td>\n",
       "      <td>0.000000</td>\n",
       "      <td>-5.586667</td>\n",
       "      <td>0.000000</td>\n",
       "      <td>-3.313333</td>\n",
       "      <td>0.000000</td>\n",
       "      <td>-19.933333</td>\n",
       "    </tr>\n",
       "    <tr>\n",
       "      <th>25%</th>\n",
       "      <td>10.415952</td>\n",
       "      <td>6.343333</td>\n",
       "      <td>0.297344</td>\n",
       "      <td>4.266667</td>\n",
       "      <td>11.544694</td>\n",
       "      <td>16.493333</td>\n",
       "      <td>0.612906</td>\n",
       "      <td>2.750000</td>\n",
       "      <td>17.669310</td>\n",
       "      <td>5.366667</td>\n",
       "      <td>14.433998</td>\n",
       "      <td>7.466667</td>\n",
       "      <td>1.893033</td>\n",
       "      <td>1.048333</td>\n",
       "    </tr>\n",
       "    <tr>\n",
       "      <th>50%</th>\n",
       "      <td>323.665126</td>\n",
       "      <td>136.213333</td>\n",
       "      <td>362.948995</td>\n",
       "      <td>226.743333</td>\n",
       "      <td>372.747291</td>\n",
       "      <td>300.986667</td>\n",
       "      <td>259.247966</td>\n",
       "      <td>140.533333</td>\n",
       "      <td>386.137684</td>\n",
       "      <td>169.053333</td>\n",
       "      <td>331.208011</td>\n",
       "      <td>125.933333</td>\n",
       "      <td>308.839000</td>\n",
       "      <td>147.676667</td>\n",
       "    </tr>\n",
       "    <tr>\n",
       "      <th>90%</th>\n",
       "      <td>788.576458</td>\n",
       "      <td>711.173333</td>\n",
       "      <td>891.548580</td>\n",
       "      <td>772.563333</td>\n",
       "      <td>905.121663</td>\n",
       "      <td>896.448000</td>\n",
       "      <td>759.162136</td>\n",
       "      <td>679.325333</td>\n",
       "      <td>835.357047</td>\n",
       "      <td>760.126667</td>\n",
       "      <td>791.368107</td>\n",
       "      <td>710.480000</td>\n",
       "      <td>784.536433</td>\n",
       "      <td>677.954000</td>\n",
       "    </tr>\n",
       "    <tr>\n",
       "      <th>95%</th>\n",
       "      <td>857.852005</td>\n",
       "      <td>796.138667</td>\n",
       "      <td>971.248774</td>\n",
       "      <td>937.024667</td>\n",
       "      <td>973.173962</td>\n",
       "      <td>986.349333</td>\n",
       "      <td>863.056160</td>\n",
       "      <td>799.163333</td>\n",
       "      <td>897.032214</td>\n",
       "      <td>885.490000</td>\n",
       "      <td>877.030227</td>\n",
       "      <td>813.385000</td>\n",
       "      <td>860.419738</td>\n",
       "      <td>812.015333</td>\n",
       "    </tr>\n",
       "    <tr>\n",
       "      <th>99%</th>\n",
       "      <td>914.476584</td>\n",
       "      <td>941.842667</td>\n",
       "      <td>1021.077380</td>\n",
       "      <td>1026.194733</td>\n",
       "      <td>1022.883245</td>\n",
       "      <td>1055.833867</td>\n",
       "      <td>908.694732</td>\n",
       "      <td>924.724267</td>\n",
       "      <td>960.479206</td>\n",
       "      <td>1007.112000</td>\n",
       "      <td>921.771467</td>\n",
       "      <td>930.947000</td>\n",
       "      <td>916.601985</td>\n",
       "      <td>912.238533</td>\n",
       "    </tr>\n",
       "    <tr>\n",
       "      <th>max</th>\n",
       "      <td>926.388612</td>\n",
       "      <td>1049.106667</td>\n",
       "      <td>1039.416417</td>\n",
       "      <td>1062.526667</td>\n",
       "      <td>1037.240201</td>\n",
       "      <td>1108.453333</td>\n",
       "      <td>928.967536</td>\n",
       "      <td>950.213333</td>\n",
       "      <td>974.501085</td>\n",
       "      <td>1069.853333</td>\n",
       "      <td>938.601606</td>\n",
       "      <td>999.220000</td>\n",
       "      <td>928.607581</td>\n",
       "      <td>948.993333</td>\n",
       "    </tr>\n",
       "  </tbody>\n",
       "</table>\n",
       "</div>"
      ],
      "text/plain": [
       "       BND_CLEARSKY_GHI      BND_GHI  TBL_CLEARSKY_GHI      TBL_GHI  \\\n",
       "count        364.000000   363.000000        365.000000   362.000000   \n",
       "mean         347.237352   245.857943        379.611243   294.589650   \n",
       "std          303.262589   277.754598        336.495369   303.127235   \n",
       "min            0.000000    -5.393333          0.000000    -4.780000   \n",
       "0%             0.000000    -5.393333          0.000000    -4.780000   \n",
       "25%           10.415952     6.343333          0.297344     4.266667   \n",
       "50%          323.665126   136.213333        362.948995   226.743333   \n",
       "90%          788.576458   711.173333        891.548580   772.563333   \n",
       "95%          857.852005   796.138667        971.248774   937.024667   \n",
       "99%          914.476584   941.842667       1021.077380  1026.194733   \n",
       "max          926.388612  1049.106667       1039.416417  1062.526667   \n",
       "\n",
       "       DRA_CLEARSKY_GHI      DRA_GHI  FPK_CLEARSKY_GHI     FPK_GHI  \\\n",
       "count        365.000000   365.000000        363.000000  363.000000   \n",
       "mean         385.699622   355.669502        307.592424  239.884848   \n",
       "std          340.001383   336.640192        293.736255  267.567546   \n",
       "min            0.000000    -6.800000          0.000000   -4.700000   \n",
       "0%             0.000000    -6.800000          0.000000   -4.700000   \n",
       "25%           11.544694    16.493333          0.612906    2.750000   \n",
       "50%          372.747291   300.986667        259.247966  140.533333   \n",
       "90%          905.121663   896.448000        759.162136  679.325333   \n",
       "95%          973.173962   986.349333        863.056160  799.163333   \n",
       "99%         1022.883245  1055.833867        908.694732  924.724267   \n",
       "max         1037.240201  1108.453333        928.967536  950.213333   \n",
       "\n",
       "       GWN_CLEARSKY_GHI      GWN_GHI  PSU_CLEARSKY_GHI     PSU_GHI  \\\n",
       "count        361.000000   331.000000        364.000000  362.000000   \n",
       "mean         379.851008   293.446651        350.426776  240.638398   \n",
       "std          318.653796   309.388639        307.614512  272.783042   \n",
       "min            0.000000    -5.586667          0.000000   -3.313333   \n",
       "0%             0.000000    -5.586667          0.000000   -3.313333   \n",
       "25%           17.669310     5.366667         14.433998    7.466667   \n",
       "50%          386.137684   169.053333        331.208011  125.933333   \n",
       "90%          835.357047   760.126667        791.368107  710.480000   \n",
       "95%          897.032214   885.490000        877.030227  813.385000   \n",
       "99%          960.479206  1007.112000        921.771467  930.947000   \n",
       "max          974.501085  1069.853333        938.601606  999.220000   \n",
       "\n",
       "       SXF_CLEARSKY_GHI     SXF_GHI  \n",
       "count        364.000000  360.000000  \n",
       "mean         326.506667  252.677333  \n",
       "std          296.715918  271.825752  \n",
       "min            0.000000  -19.933333  \n",
       "0%             0.000000  -19.933333  \n",
       "25%            1.893033    1.048333  \n",
       "50%          308.839000  147.676667  \n",
       "90%          784.536433  677.954000  \n",
       "95%          860.419738  812.015333  \n",
       "99%          916.601985  912.238533  \n",
       "max          928.607581  948.993333  "
      ]
     },
     "execution_count": 154,
     "metadata": {},
     "output_type": "execute_result"
    }
   ],
   "source": [
    "daily_valid_df[stations].describe(percentiles=np.concatenate([np.arange(0, .75, 0.25), [.9, .95, .99]]))"
   ]
  },
  {
   "cell_type": "markdown",
   "metadata": {},
   "source": [
    "# Conclusion \n",
    "\n",
    "- The two dataset don't have the same distribution of daypoint, especially per hour\n",
    "- Similar distribution over stations\n",
    "- However, TBL seems to be particularly off\n",
    "- The hourly dataset seem to be more consitent between the train and validation set\n",
    "- It doesn't seem that we have got outliers based on the clearsky model. (we should remove the clip of output)"
   ]
  },
  {
   "cell_type": "code",
   "execution_count": null,
   "metadata": {},
   "outputs": [],
   "source": []
  }
 ],
 "metadata": {
  "kernelspec": {
   "display_name": "py37_tf",
   "language": "python",
   "name": "py37_tf"
  },
  "language_info": {
   "codemirror_mode": {
    "name": "ipython",
    "version": 3
   },
   "file_extension": ".py",
   "mimetype": "text/x-python",
   "name": "python",
   "nbconvert_exporter": "python",
   "pygments_lexer": "ipython3",
   "version": "3.7.4"
  }
 },
 "nbformat": 4,
 "nbformat_minor": 4
}
