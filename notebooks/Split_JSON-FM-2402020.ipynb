{
 "cells": [
  {
   "cell_type": "markdown",
   "metadata": {},
   "source": [
    "Author: François Mercier\n",
    "\n",
    "Goal: Create "
   ]
  },
  {
   "cell_type": "markdown",
   "metadata": {
    "jupyter": {
     "outputs_hidden": true
    }
   },
   "source": [
    "# Imports\n",
    "\n",
    "Additional requirements for this notebook (not part of main requirements)\n",
    "```\n",
    "pip install --no-index matplotlib \n",
    "pip install --no-index scikit-learn\n",
    "pip install --no-index seaborn\n",
    "pip install fastprogress\n",
    "````\n",
    "\n",
    "Additional requirements to be part of main requirements (used by TAs utilities functions)\n",
    "\n",
    "```\n",
    "pip install opencv-python\n",
    "pip install lz4\n",
    "pip install --no-index tqdm\n",
    "pip install --no-index h5netcdf\n",
    "````"
   ]
  },
  {
   "cell_type": "code",
   "execution_count": 2,
   "metadata": {},
   "outputs": [],
   "source": [
    "%matplotlib inline\n",
    "%reload_ext autoreload\n",
    "%autoreload 2"
   ]
  },
  {
   "cell_type": "code",
   "execution_count": 3,
   "metadata": {},
   "outputs": [],
   "source": [
    "import sklearn\n",
    "import matplotlib.pyplot as plt \n",
    "import seaborn as sns\n",
    "from pathlib import Path\n",
    "import pandas as pd\n",
    "import numpy as np\n",
    "import json\n",
    "\n",
    "from fastprogress import progress_bar\n",
    "\n",
    "import h5netcdf\n",
    "import cv2 as cv"
   ]
  },
  {
   "cell_type": "code",
   "execution_count": 4,
   "metadata": {},
   "outputs": [
    {
     "data": {
      "text/plain": [
       "'2.0.0'"
      ]
     },
     "execution_count": 4,
     "metadata": {},
     "output_type": "execute_result"
    }
   ],
   "source": [
    "from __future__ import absolute_import, division, print_function, unicode_literals\n",
    "\n",
    "import tensorflow as tf\n",
    "tf.__version__"
   ]
  },
  {
   "cell_type": "code",
   "execution_count": 5,
   "metadata": {},
   "outputs": [],
   "source": [
    "import sys\n",
    "sys.path.append(\"..\") # Require to have the utilities packages in path\n",
    "from utilities.utils import *"
   ]
  },
  {
   "cell_type": "code",
   "execution_count": 6,
   "metadata": {},
   "outputs": [],
   "source": [
    "pd.set_option('display.max_columns', 999)\n",
    "pd.set_option('display.max_rows', 999)"
   ]
  },
  {
   "cell_type": "code",
   "execution_count": 7,
   "metadata": {},
   "outputs": [
    {
     "data": {
      "text/plain": [
       "[PosixPath('../configs/admin/hourly_sample_daytime_24_validation.json'),\n",
       " PosixPath('../configs/admin/hourly_sample_daytime_3_validation.json'),\n",
       " PosixPath('../configs/admin/hourly_sample_daytime_15_validation.json'),\n",
       " PosixPath('../configs/admin/hourly_sample_daytime_25_validation.json'),\n",
       " PosixPath('../configs/admin/schema.json'),\n",
       " PosixPath('../configs/admin/hourly_sample_daytime_14_validation.json'),\n",
       " PosixPath('../configs/admin/hourly_sample_daytime_2_validation.json'),\n",
       " PosixPath('../configs/admin/hourly_sample_daytime_28_validation.json'),\n",
       " PosixPath('../configs/admin/hourly_sample_daytime_17_validation.json'),\n",
       " PosixPath('../configs/admin/hourly_sample_daytime_1_validation.json'),\n",
       " PosixPath('../configs/admin/hourly_random_train.json'),\n",
       " PosixPath('../configs/admin/hourly_daytime_shuffle_train.json'),\n",
       " PosixPath('../configs/admin/hourly_sample_daytime_26_validation.json'),\n",
       " PosixPath('../configs/admin/hourly_sample_daytime_19_validation.json'),\n",
       " PosixPath('../configs/admin/dummy_test_cfg.json'),\n",
       " PosixPath('../configs/admin/hourly_sample_daytime_29_validation.json'),\n",
       " PosixPath('../configs/admin/hourly_sample_daytime_0_validation.json'),\n",
       " PosixPath('../configs/admin/hourly_sample_daytime_16_validation.json'),\n",
       " PosixPath('../configs/admin/daily_random_01_test.json'),\n",
       " PosixPath('../configs/admin/hourly_daytime_01_test.json'),\n",
       " PosixPath('../configs/admin/hourly_sample_daytime_27_validation.json'),\n",
       " PosixPath('../configs/admin/hourly_sample_daytime_18_validation.json'),\n",
       " PosixPath('../configs/admin/hourly_sample_daytime_10_validation.json'),\n",
       " PosixPath('../configs/admin/hourly_sample_daytime_6_validation.json'),\n",
       " PosixPath('../configs/admin/hourly_sample_daytime_21_validation.json'),\n",
       " PosixPath('../configs/admin/hourly_sample_daytime_8_validation.json'),\n",
       " PosixPath('../configs/admin/daily_random_01_train.json'),\n",
       " PosixPath('../configs/admin/hourly_daytime_shuffle_validation.json'),\n",
       " PosixPath('../configs/admin/hourly_sample_daytime_7_validation.json'),\n",
       " PosixPath('../configs/admin/hourly_sample_daytime_11_validation.json'),\n",
       " PosixPath('../configs/admin/hourly_daytime_01_validation.json'),\n",
       " PosixPath('../configs/admin/hourly_sample_daytime_20_validation.json'),\n",
       " PosixPath('../configs/admin/hourly_sample_daytime_9_validation.json'),\n",
       " PosixPath('../configs/admin/daily_daytime_01_validation.json'),\n",
       " PosixPath('../configs/admin/daily_daytime_01_test.json'),\n",
       " PosixPath('../configs/admin/hourly_sample_daytime_23_validation.json'),\n",
       " PosixPath('../configs/admin/hourly_sample_daytime_4_validation.json'),\n",
       " PosixPath('../configs/admin/hourly_sample_daytime_12_validation.json'),\n",
       " PosixPath('../configs/admin/hourly_random_test.json'),\n",
       " PosixPath('../configs/admin/hourly_sample_daytime_22_validation.json'),\n",
       " PosixPath('../configs/admin/daily_daytime_01_train.json'),\n",
       " PosixPath('../configs/admin/daily_random_01_validation.json'),\n",
       " PosixPath('../configs/admin/hourly_random_validation.json'),\n",
       " PosixPath('../configs/admin/hourly_sample_daytime_13_validation.json'),\n",
       " PosixPath('../configs/admin/hourly_sample_daytime_5_validation.json'),\n",
       " PosixPath('../configs/admin/hourly_daytime_01_train.json'),\n",
       " PosixPath('../configs/admin/hourly_daytime_shuffle_test.json')]"
      ]
     },
     "execution_count": 7,
     "metadata": {},
     "output_type": "execute_result"
    }
   ],
   "source": [
    "data_path = Path(r\"../configs/admin\")\n",
    "list(data_path.glob(\"*\"))"
   ]
  },
  {
   "cell_type": "code",
   "execution_count": 8,
   "metadata": {},
   "outputs": [],
   "source": [
    "n_split = 30\n",
    "split_size = 50"
   ]
  },
  {
   "cell_type": "markdown",
   "metadata": {},
   "source": [
    "# Retrieve the main JSON for validation"
   ]
  },
  {
   "cell_type": "code",
   "execution_count": 16,
   "metadata": {},
   "outputs": [
    {
     "data": {
      "text/plain": [
       "0    2014-01-01T00:15:00\n",
       "1    2014-01-01T12:45:00\n",
       "2    2014-01-01T13:15:00\n",
       "3    2014-01-01T14:45:00\n",
       "4    2014-01-01T15:45:00\n",
       "dtype: object"
      ]
     },
     "execution_count": 16,
     "metadata": {},
     "output_type": "execute_result"
    }
   ],
   "source": [
    "with open(data_path / \"hourly_daytime_01_validation.json\", 'r') as f:\n",
    "    admin_config = json.load(f)\n",
    "\n",
    "datapoint = pd.Series(admin_config[\"target_datetimes\"])\n",
    "datapoint.head()"
   ]
  },
  {
   "cell_type": "markdown",
   "metadata": {},
   "source": [
    "# With new JSON for validation using sample with replacement"
   ]
  },
  {
   "cell_type": "code",
   "execution_count": 27,
   "metadata": {},
   "outputs": [],
   "source": [
    "for i in range(n_split):\n",
    "    tmp_json = admin_config.copy()\n",
    "    tmp_json[\"target_datetimes\"] = datapoint.sample(split_size).to_list()\n",
    "\n",
    "    with open(data_path / f'hourly_sample_daytime_{i}_validation.json', 'w') as outfile:\n",
    "        json.dump(tmp_json, outfile)"
   ]
  },
  {
   "cell_type": "markdown",
   "metadata": {},
   "source": [
    "# Retrieve the main JSON for test"
   ]
  },
  {
   "cell_type": "code",
   "execution_count": 9,
   "metadata": {},
   "outputs": [
    {
     "data": {
      "text/plain": [
       "0    2015-01-01T00:15:00\n",
       "1    2015-01-01T12:45:00\n",
       "2    2015-01-01T13:30:00\n",
       "3    2015-01-01T14:15:00\n",
       "4    2015-01-01T15:45:00\n",
       "dtype: object"
      ]
     },
     "execution_count": 9,
     "metadata": {},
     "output_type": "execute_result"
    }
   ],
   "source": [
    "with open(data_path / \"hourly_daytime_01_test.json\", 'r') as f:\n",
    "    admin_config = json.load(f)\n",
    "\n",
    "datapoint = pd.Series(admin_config[\"target_datetimes\"])\n",
    "datapoint.head()"
   ]
  },
  {
   "cell_type": "markdown",
   "metadata": {},
   "source": [
    "# With new JSON for test using sample with replacement"
   ]
  },
  {
   "cell_type": "code",
   "execution_count": 10,
   "metadata": {},
   "outputs": [],
   "source": [
    "for i in range(n_split):\n",
    "    tmp_json = admin_config.copy()\n",
    "    tmp_json[\"target_datetimes\"] = datapoint.sample(split_size).to_list()\n",
    "\n",
    "    with open(data_path / f'hourly_sample_daytime_{i}_test.json', 'w') as outfile:\n",
    "        json.dump(tmp_json, outfile)"
   ]
  },
  {
   "cell_type": "code",
   "execution_count": null,
   "metadata": {},
   "outputs": [],
   "source": []
  }
 ],
 "metadata": {
  "kernelspec": {
   "display_name": "py37_tf",
   "language": "python",
   "name": "py37_tf"
  },
  "language_info": {
   "codemirror_mode": {
    "name": "ipython",
    "version": 3
   },
   "file_extension": ".py",
   "mimetype": "text/x-python",
   "name": "python",
   "nbconvert_exporter": "python",
   "pygments_lexer": "ipython3",
   "version": "3.7.4"
  }
 },
 "nbformat": 4,
 "nbformat_minor": 4
}
